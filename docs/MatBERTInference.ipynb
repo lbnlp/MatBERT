{
 "cells": [
  {
   "cell_type": "markdown",
   "id": "b4a01211-5cd4-42bb-b2a9-6dccce4d4763",
   "metadata": {},
   "source": [
    "## MatBERT training loss curve"
   ]
  },
  {
   "cell_type": "code",
   "execution_count": 10,
   "id": "a497dbfa-6290-4ab7-a666-2eab04f43151",
   "metadata": {},
   "outputs": [
    {
     "data": {
      "image/png": "[encoded data removed]",
      "text/plain": [
       "<Figure size 432x288 with 1 Axes>"
      ]
     },
     "metadata": {
      "needs_background": "light"
     },
     "output_type": "display_data"
    }
   ],
   "source": [
    "import pandas\n",
    "import matplotlib.pyplot as plt\n",
    "\n",
    "models_cased_loss = pandas.read_csv('./model_2Mpapers_cased_30522_wd.csv')\n",
    "models_uncased_loss = pandas.read_csv('./model_2Mpapers_uncased_30522_wd.csv')\n",
    "\n",
    "models_cased_loss.plot(x='epoch', y='mlm_loss', ax=plt.gca(), label='MatBERT-base-cased')\n",
    "models_uncased_loss.plot(x='epoch', y='mlm_loss', ax=plt.gca(), label='MatBERT-base-uncased')\n",
    "plt.yscale('log')\n",
    "plt.grid('on')\n",
    "plt.show()"
   ]
  },
  {
   "cell_type": "markdown",
   "id": "16333f31-3ea9-453e-ae95-425bc6715324",
   "metadata": {},
   "source": [
    "## Tokenizer comparison"
   ]
  },
  {
   "cell_type": "code",
   "execution_count": 15,
   "id": "da7d4bea-ff82-47b8-881e-3243dc4f3641",
   "metadata": {},
   "outputs": [
    {
     "name": "stdout",
     "output_type": "stream",
     "text": [
      "Fe(NO3)3• 9H2O\n",
      "====================================================================================================\n",
      "MatBERT tokenizer: ['Fe', '(', 'NO3', ')', '3', '•', '9H2O']\n",
      "BERT tokenizer: ['Fe', '(', 'NO', '##3', ')', '3', '•', '9', '##H', '##2', '##O']\n",
      "La0.85Ag0.15Mn1−yAlyO3\n",
      "====================================================================================================\n",
      "MatBERT tokenizer: ['La0', '.', '85', '##Ag', '##0', '.', '15', '##Mn1', '##−y', '##Al', '##y', '##O3']\n",
      "BERT tokenizer: ['La', '##0', '.', '85', '##A', '##g', '##0', '.', '15', '##M', '##n', '##1', '##−', '##y', '##A', '##ly', '##O', '##3']\n"
     ]
    }
   ],
   "source": [
    "from transformers import BertTokenizerFast\n",
    "\n",
    "tokenizer = BertTokenizerFast.from_pretrained('../models/matbert-base-cased/', do_lower_case=False)\n",
    "tokenizer_bert = BertTokenizerFast.from_pretrained('bert-base-cased', do_lower_case=False)\n",
    "\n",
    "for i in ['Fe(NO3)3• 9H2O', 'La0.85Ag0.15Mn1−yAlyO3']:\n",
    "    print(i)\n",
    "    print('='*100)\n",
    "    print('MatBERT tokenizer:', tokenizer.tokenize(i))\n",
    "    print('BERT tokenizer:', tokenizer_bert.tokenize(i))"
   ]
  },
  {
   "cell_type": "markdown",
   "id": "85712d95-c70c-46c5-b9c7-c965c49a5a3e",
   "metadata": {},
   "source": [
    "## Masked language modeling for materials science inference"
   ]
  },
  {
   "cell_type": "code",
   "execution_count": 11,
   "id": "9f625350-bb5d-4052-8783-df79864a9eb6",
   "metadata": {},
   "outputs": [],
   "source": [
    "from transformers import BertForMaskedLM, BertTokenizerFast, pipeline\n",
    "\n",
    "tokenizer = BertTokenizerFast.from_pretrained('../models/matbert-base-cased/', do_lower_case=False)\n",
    "model = BertForMaskedLM.from_pretrained('../models/matbert-base-cased/')\n",
    "fill_mask = pipeline(\n",
    "    \"fill-mask\",\n",
    "    model=model,\n",
    "    tokenizer=tokenizer\n",
    ")"
   ]
  },
  {
   "cell_type": "code",
   "execution_count": 12,
   "id": "e1f32c4b-85b3-404b-99fc-1712535b05d7",
   "metadata": {},
   "outputs": [
    {
     "data": {
      "text/plain": [
       "[{'sequence': '[CLS] TiO2 is a good thermoelectric. [SEP]',\n",
       "  'score': 0.5292941927909851,\n",
       "  'token': 3177,\n",
       "  'token_str': 'good'},\n",
       " {'sequence': '[CLS] TiO2 is a typical thermoelectric. [SEP]',\n",
       "  'score': 0.06705645471811295,\n",
       "  'token': 3983,\n",
       "  'token_str': 'typical'},\n",
       " {'sequence': '[CLS] TiO2 is a strong thermoelectric. [SEP]',\n",
       "  'score': 0.057758502662181854,\n",
       "  'token': 2817,\n",
       "  'token_str': 'strong'},\n",
       " {'sequence': '[CLS] TiO2 is a promising thermoelectric. [SEP]',\n",
       "  'score': 0.04165131226181984,\n",
       "  'token': 5608,\n",
       "  'token_str': 'promising'},\n",
       " {'sequence': '[CLS] TiO2 is a known thermoelectric. [SEP]',\n",
       "  'score': 0.022214455530047417,\n",
       "  'token': 3276,\n",
       "  'token_str': 'known'}]"
      ]
     },
     "execution_count": 12,
     "metadata": {},
     "output_type": "execute_result"
    }
   ],
   "source": [
    "fill_mask('TiO2 is a [MASK] thermoelectric.')"
   ]
  },
  {
   "cell_type": "code",
   "execution_count": 13,
   "id": "9a1e0c85-4ff2-4da6-9822-d422fd7888ed",
   "metadata": {},
   "outputs": [
    {
     "data": {
      "text/plain": [
       "[{'sequence': '[CLS] This paper is short. [SEP]',\n",
       "  'score': 0.05745580419898033,\n",
       "  'token': 3652,\n",
       "  'token_str': 'short'},\n",
       " {'sequence': '[CLS] This paper is organized. [SEP]',\n",
       "  'score': 0.05405081436038017,\n",
       "  'token': 10197,\n",
       "  'token_str': 'organized'},\n",
       " {'sequence': '[CLS] This paper is ongoing. [SEP]',\n",
       "  'score': 0.04968896135687828,\n",
       "  'token': 13879,\n",
       "  'token_str': 'ongoing'},\n",
       " {'sequence': '[CLS] This paper is complete. [SEP]',\n",
       "  'score': 0.04325306415557861,\n",
       "  'token': 4452,\n",
       "  'token_str': 'complete'},\n",
       " {'sequence': '[CLS] This paper is continuing. [SEP]',\n",
       "  'score': 0.032858941704034805,\n",
       "  'token': 19246,\n",
       "  'token_str': 'continuing'}]"
      ]
     },
     "execution_count": 13,
     "metadata": {},
     "output_type": "execute_result"
    }
   ],
   "source": [
    "fill_mask(\"This paper is [MASK].\")"
   ]
  },
  {
   "cell_type": "code",
   "execution_count": 16,
   "id": "ae4390c7-47b0-4c65-ac22-1df6ebbcb86c",
   "metadata": {},
   "outputs": [
    {
     "data": {
      "text/plain": [
       "[{'sequence': '[CLS] An energy density of 1000 W h kg - 1 is achieved. Fluorinated DRXs have recently demonstrated reversible capacities 800 mA h g - 1 and extremely high energy densities approaching 1000 W h kg - 1, holding promise for a nearly two - fold increase in the energy density of commercial lithium - ion batteries. [SEP]',\n",
       "  'score': 0.06783945113420486,\n",
       "  'token': 4771,\n",
       "  'token_str': '1000'},\n",
       " {'sequence': '[CLS] An energy density of 800 W h kg - 1 is achieved. Fluorinated DRXs have recently demonstrated reversible capacities 800 mA h g - 1 and extremely high energy densities approaching 1000 W h kg - 1, holding promise for a nearly two - fold increase in the energy density of commercial lithium - ion batteries. [SEP]',\n",
       "  'score': 0.04928496852517128,\n",
       "  'token': 5504,\n",
       "  'token_str': '800'},\n",
       " {'sequence': '[CLS] An energy density of 500 W h kg - 1 is achieved. Fluorinated DRXs have recently demonstrated reversible capacities 800 mA h g - 1 and extremely high energy densities approaching 1000 W h kg - 1, holding promise for a nearly two - fold increase in the energy density of commercial lithium - ion batteries. [SEP]',\n",
       "  'score': 0.049199219793081284,\n",
       "  'token': 3801,\n",
       "  'token_str': '500'},\n",
       " {'sequence': '[CLS] An energy density of 400 W h kg - 1 is achieved. Fluorinated DRXs have recently demonstrated reversible capacities 800 mA h g - 1 and extremely high energy densities approaching 1000 W h kg - 1, holding promise for a nearly two - fold increase in the energy density of commercial lithium - ion batteries. [SEP]',\n",
       "  'score': 0.0387653149664402,\n",
       "  'token': 3842,\n",
       "  'token_str': '400'},\n",
       " {'sequence': '[CLS] An energy density of 200 W h kg - 1 is achieved. Fluorinated DRXs have recently demonstrated reversible capacities 800 mA h g - 1 and extremely high energy densities approaching 1000 W h kg - 1, holding promise for a nearly two - fold increase in the energy density of commercial lithium - ion batteries. [SEP]',\n",
       "  'score': 0.03856045380234718,\n",
       "  'token': 2559,\n",
       "  'token_str': '200'}]"
      ]
     },
     "execution_count": 16,
     "metadata": {},
     "output_type": "execute_result"
    }
   ],
   "source": [
    "fill_mask(\n",
    "    'An energy density of [MASK] W h kg-1 is achieved. '\n",
    "    'Fluorinated DRXs have recently demonstrated reversible capacities 800 mA h g-1 and '\n",
    "    'extremely high energy densities approaching 1000 W h kg-1 '\n",
    "    ', holding promise for a nearly two-fold '\n",
    "    'increase in the energy density of commercial lithium-ion batteries. ')"
   ]
  },
  {
   "cell_type": "code",
   "execution_count": 17,
   "id": "f52e6985-31ae-4038-844f-c7eb8d579dbb",
   "metadata": {},
   "outputs": [
    {
     "data": {
      "text/plain": [
       "[{'sequence': '[CLS] The target material was calcined for 2 h. α - Fe2O3 used in present study was prepared by a combination of precipitation and spray - drying technologies. In brief, a solution containing Fe ( NO3 ) 3 • 9H2O was used in precipitation with NH4OH solution as a precipitator at pH = 8. 5 ~ 9. 0 and T = 70 °C. The precipitate was washed and then filtered. The mixture was reslurried and spray - dried. Finally, a sample with diameters of 20 ~ 26 μm was calcined at 450 °C for 2 h in a muffle furnace. [SEP]',\n",
       "  'score': 0.8691782355308533,\n",
       "  'token': 22,\n",
       "  'token_str': '2'},\n",
       " {'sequence': '[CLS] The target material was calcined for 4 h. α - Fe2O3 used in present study was prepared by a combination of precipitation and spray - drying technologies. In brief, a solution containing Fe ( NO3 ) 3 • 9H2O was used in precipitation with NH4OH solution as a precipitator at pH = 8. 5 ~ 9. 0 and T = 70 °C. The precipitate was washed and then filtered. The mixture was reslurried and spray - dried. Finally, a sample with diameters of 20 ~ 26 μm was calcined at 450 °C for 2 h in a muffle furnace. [SEP]',\n",
       "  'score': 0.041108064353466034,\n",
       "  'token': 24,\n",
       "  'token_str': '4'},\n",
       " {'sequence': '[CLS] The target material was calcined for 3 h. α - Fe2O3 used in present study was prepared by a combination of precipitation and spray - drying technologies. In brief, a solution containing Fe ( NO3 ) 3 • 9H2O was used in precipitation with NH4OH solution as a precipitator at pH = 8. 5 ~ 9. 0 and T = 70 °C. The precipitate was washed and then filtered. The mixture was reslurried and spray - dried. Finally, a sample with diameters of 20 ~ 26 μm was calcined at 450 °C for 2 h in a muffle furnace. [SEP]',\n",
       "  'score': 0.02290811762213707,\n",
       "  'token': 23,\n",
       "  'token_str': '3'},\n",
       " {'sequence': '[CLS] The target material was calcined for 5 h. α - Fe2O3 used in present study was prepared by a combination of precipitation and spray - drying technologies. In brief, a solution containing Fe ( NO3 ) 3 • 9H2O was used in precipitation with NH4OH solution as a precipitator at pH = 8. 5 ~ 9. 0 and T = 70 °C. The precipitate was washed and then filtered. The mixture was reslurried and spray - dried. Finally, a sample with diameters of 20 ~ 26 μm was calcined at 450 °C for 2 h in a muffle furnace. [SEP]',\n",
       "  'score': 0.019427187740802765,\n",
       "  'token': 25,\n",
       "  'token_str': '5'},\n",
       " {'sequence': '[CLS] The target material was calcined for 1 h. α - Fe2O3 used in present study was prepared by a combination of precipitation and spray - drying technologies. In brief, a solution containing Fe ( NO3 ) 3 • 9H2O was used in precipitation with NH4OH solution as a precipitator at pH = 8. 5 ~ 9. 0 and T = 70 °C. The precipitate was washed and then filtered. The mixture was reslurried and spray - dried. Finally, a sample with diameters of 20 ~ 26 μm was calcined at 450 °C for 2 h in a muffle furnace. [SEP]',\n",
       "  'score': 0.014336886815726757,\n",
       "  'token': 21,\n",
       "  'token_str': '1'}]"
      ]
     },
     "execution_count": 17,
     "metadata": {},
     "output_type": "execute_result"
    }
   ],
   "source": [
    "fill_mask(\n",
    "    'The target material was calcined for [MASK] h. '\n",
    "    'α-Fe2O3 used in present study was prepared by a combination of precipitation '\n",
    "    'and spray-drying technologies. In brief, a solution containing Fe(NO3)3• 9H2O '\n",
    "    'was used in precipitation with NH4OH solution as a precipitator at pH = 8.5~9.0 '\n",
    "    'and T = 70 °C. The precipitate was washed and then filtered. The mixture was '\n",
    "    'reslurried and spray-dried. Finally, a sample with diameters of 20~26 μm was '\n",
    "    'calcined at 450 °C for 2 h in a muffle furnace.')"
   ]
  },
  {
   "cell_type": "code",
   "execution_count": 18,
   "id": "016c2008-6c92-4068-91a5-360c7fc441dc",
   "metadata": {},
   "outputs": [
    {
     "name": "stdout",
     "output_type": "stream",
     "text": [
      "Question 0 - All starting materials were reagent grad...\n",
      "hydrothermal        0.8446\n",
      "precipitation       0.0573\n",
      "coprecipitation     0.0404\n",
      "solution            0.0088\n",
      "synthesis           0.0070\n",
      "Question 1 - α-Fe2O3 used in present study was prepar...\n",
      "coprecipitation     0.3141\n",
      "precipitation       0.1725\n",
      "hydrothermal        0.0937\n",
      "combustion          0.0870\n",
      "ceramic             0.0609\n",
      "Question 2 - The aqueous solution of 0.5 M Y(NO3)3, 0...\n",
      "combustion          0.3896\n",
      "coprecipitation     0.1406\n",
      "hydrothermal        0.0983\n",
      "precipitation       0.0900\n",
      "solution            0.0461\n",
      "Question 3 - Polycrystalline A2TiO5 samples were synt...\n",
      "ceramic             0.8122\n",
      "sintering           0.0330\n",
      "powder              0.0266\n",
      "combustion          0.0192\n",
      "melting             0.0109\n",
      "Question 4 - The La0.85Ag0.15Mn1 − yAlyO3 compounds w...\n",
      "ceramic             0.7952\n",
      "coprecipitation     0.0334\n",
      "combustion          0.0309\n",
      "sintering           0.0201\n",
      "chemical            0.0090\n",
      "Question 5 - Gold on ZrO2 was prepared by the grindin...\n",
      "impregnation        0.7613\n",
      "coprecipitation     0.0633\n",
      "precipitation       0.0328\n",
      "calcination         0.0168\n",
      "preparation         0.0088\n"
     ]
    }
   ],
   "source": [
    "questions = [\n",
    "    'All starting materials were reagent grade chemicals (Wako Pure Chem., Ind., Co.), such as NaOH (≥97.0%), P2O5 (≥98.0%), V2O5 (≥99.0%), Ca(NO3)2·4H2O (≥98.5%), and Sr(NO3)2 (≥98.0%). The substituted hydroxyapatites and their solid solutions were prepared by the hydrothermal methods described in detail . Firstly, solution A containing strontium nitrate and/or calcium nitrate (total 3.34 mmol) in 8 ml of distilled water was added into solution B containing P2O5 and/or V2O5 (total 1 mmol) in 7 ml of distilled water with NaOH, so that (Ca + Sr)/(P + V) molar ratios in the mixed solution were 1.67. The amounts of added NaOH were 14 and 7 mmol in the case of the preparation of hydroxyapatites with and without vanadate, respectively . The resultant suspension was treated under the hydrothermal condition at 110 °C for 14 h with agitation in an autoclave lined with Teflon. After the hydrothermal treatment, the resultant precipitates were washed by the centrifugal separation with distilled water, and then it was dried at 60 °C for 5 h.',\n",
    "    'α-Fe2O3 used in present study was prepared by a combination of precipitation and spray-drying technologies. In brief, a solution containing Fe(NO3)3• 9H2O was used in precipitation with NH4OH solution as a precipitator at pH = 8.5~9.0 and T = 70 °C. The precipitate was washed and then filtered. The mixture was reslurried and spray-dried. Finally, a sample with diameters of 20~26 μm was calcined at 450 °C for 5 h in a muffle furnace.',\n",
    "    'The aqueous solution of 0.5 M Y(NO3)3, 0.025 M Ba(NO3)2, 0.5 M Cu(NO3)2 and 0.5 M Al(NO3)3 was prepared by dissolving into distilled water. All reagents used were analytical grade and 99.9% pure. The Y(NO3)3, Ba(NO3)2, Cu(NO3)2 and Al(NO3)3 were mixed by the mole ratio of 1:2:3:x respectively where was varied from 0.02 to 0.1 mol. Accordingly, a mixture without Al addition was prepared to be used as a reference solution. Calculated amount of citric acid was added to the mixture and the pH was adjusted to 7 by adding ammonia solution. The as-prepared solution was heated on the hot plate at 250 °C with an infrared lamp on top of it to provide a uniform heating. Continuous heating process turned this solution to a dark blue gel which was combusted and yielded dark brown fine ashes. Most of the combustion process involved flame which turned the gel into a very fine, spongy and brownish black ash. Subsequently, the ashes were calcined inside a furnace at 900 °C for 1 h under normal atmosphere and self-cooled to room temperature. Calcination process transformed these highly hygroscopic and reactive ashes into a more stable, black and dense powder. Calcined powders were pelletized to the dimension of 10 mm × 2 mm pellet by applying 12.4 MPa load. The pellets were sintered at 960 °C for 1 h under normal atmosphere then soaked for 20 h at 500 °C in oxygen flow (50 ml min−1). The resultant pure YBa2Cu3O7powder was abbreviated as YBCO and the Al2O3 added YBa2Cu3O7 powder samples were tagged according to the mole number of Al nitrate addition.',\n",
    "    'Polycrystalline A2TiO5 samples were synthesized by solid-state methods from A2O3 and TiO2 powders. The typical grain size of the samples was several microns. The powders were then pressed into thin pellets, ground to a thickness of ~ 40 µm, and subsequently sintered at 800 °C for 24 h. For irradiation experiments, a small portion of the sintered pellets were carefully mounted onto a 1 cm × 1 cm aluminum plate holder using a double-sided tape. To prevent the samples from falling during the irradiation process, a thin layer of metal, resistant to melt during irradiation, was further glued on a small portion of the pellets. The pellets were irradiated at the × 0 beamline of the UNILAC linear accelerator at the GSI Helmholtz Center for Heavy Ion Research in Darmstadt, Germany. All irradiations were performed at room temperature under vacuum using 2.2 GeV Au ions and various fluences up to 3 × 1013 ions/cm2. To prevent bulk heating of the samples, the ion flux was maintained below 2 × 109 ions/cm2/s1. The typical fluence uncertainty was 10–15%. SRIM-2008 code was used to determine the electronic energy loss as a function of sample penetration depth ( Fig. 2). The electronic energy loss (dE/dx)e for Yb2TiO5, Gd2TiO5 and Nd2TiO5 is 44.8 keV/nm, 38.1 keV/nm and 35.01 keV/nm at the sample surface, respectively. Mass densities used for the SRIM calculations were: Nd2TiO5 = 5.73 g/cm3; Gd2TiO5 = 6.62 g/cm3; Yb2TiO5 = 7.96 g/cm3. The calculations indicated projected ion ranges between 60 and 70 µm. Therefore, the 2.2 GeV Au ions passed completely through all samples. The corresponding nuclear energy loss is about three orders of magnitude smaller than the electronic energy loss and is thus assumed to be negligible.',\n",
    "    'The La0.85Ag0.15Mn1 − yAlyO3 compounds were prepared for y = 0, 0.05, 0.10, 0.15 and 0.20 by solid-state route. Stoichiometric ratio of La2O3, AgNO3, Al and C4H6MnO4·4H2O with 99.9% purity were weighed and mixed thoroughly under acetone. The mixture was presintered at 800 °C for 36 h with intermediate grindings. The sintering in pellet form was carried out at 1000 °C over 20 h with intermediate grindings. The final sintering was carried out at 1050 °C for over 40 h with intermediate grindings. All the above sintering processes were carried out in air.',\n",
    "    'Gold on ZrO2 was prepared by the grinding method . A mixture of metal oxide support (3.0 g), Me2Au(acac) (50 mg for 1 wt% Au loading), and acetone (10 g) was ground by ball milling (350 rpm) in air at room temperature for 30 min. The mixture was filtered, and calcined in air at 300 °C for 4 h. Gold on WO3 was prepared by mixing WO3 powder with Me2Au(acac) in an agate mortar at room temperature for 20 min followed by calcination in air at 300 °C for 4 h . Gold on NiO and Fe2O3 were prepared by the co-precipitation . Gold on CeO2, Al2O3, TiO2, and Co3O4 were prepared by the deposition-precipitation (DP) method according to the literature . Gold on MgO was prepared by DP in the presence of Mg citrate according to the literature .'\n",
    "]\n",
    "\n",
    "qa_question = [\"Materials used in this study were prepared by the conventional [MASK] method. \" + x for x in questions]\n",
    "for i, result in enumerate(fill_mask(qa_question)):\n",
    "    print('Question', i, '-', questions[i][:40] + '...')\n",
    "    for j in result:\n",
    "        print('%s%.4f' % (j['token_str'].ljust(20), j['score']))"
   ]
  },
  {
   "cell_type": "code",
   "execution_count": null,
   "id": "e584c914-a16d-4cff-9b1c-99f2648ee722",
   "metadata": {},
   "outputs": [],
   "source": []
  }
 ],
 "metadata": {
  "kernelspec": {
   "display_name": "bert",
   "language": "python",
   "name": "bert"
  },
  "language_info": {
   "codemirror_mode": {
    "name": "ipython",
    "version": 3
   },
   "file_extension": ".py",
   "mimetype": "text/x-python",
   "name": "python",
   "nbconvert_exporter": "python",
   "pygments_lexer": "ipython3",
   "version": "3.7.7"
  }
 },
 "nbformat": 4,
 "nbformat_minor": 5
}
